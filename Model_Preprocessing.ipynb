{
  "nbformat": 4,
  "nbformat_minor": 0,
  "metadata": {
    "colab": {
      "name": "Model_Preprocessing.ipynb",
      "provenance": [],
      "authorship_tag": "ABX9TyOcuyddkbtZZb7/DHDdvUQL",
      "include_colab_link": true
    },
    "kernelspec": {
      "name": "python3",
      "display_name": "Python 3"
    }
  },
  "cells": [
    {
      "cell_type": "markdown",
      "metadata": {
        "id": "view-in-github",
        "colab_type": "text"
      },
      "source": [
        "<a href=\"https://colab.research.google.com/github/kartikay-99k/Cough-detector-app/blob/master/Model_Preprocessing.ipynb\" target=\"_parent\"><img src=\"https://colab.research.google.com/assets/colab-badge.svg\" alt=\"Open In Colab\"/></a>"
      ]
    },
    {
      "cell_type": "markdown",
      "metadata": {
        "id": "eZJBqUhc0rdj",
        "colab_type": "text"
      },
      "source": [
        "## 1. Importing Libraries"
      ]
    },
    {
      "cell_type": "code",
      "metadata": {
        "id": "utZxlKec03Kq",
        "colab_type": "code",
        "colab": {}
      },
      "source": [
        "import tensorflow as tf\n",
        "from pathlib import Path\n",
        "import numpy as np\n",
        "from tensorflow.keras.preprocessing import image\n",
        "from tensorflow.keras.applications import mobilenet_v2\n",
        "import joblib\n",
        "import glob\n",
        "from sklearn.model_selection import train_test_split\n",
        "\n",
        "\n"
      ],
      "execution_count": 0,
      "outputs": []
    },
    {
      "cell_type": "markdown",
      "metadata": {
        "id": "F6XV_SxxY1Kt",
        "colab_type": "text"
      },
      "source": [
        "## 2. Data Preparation"
      ]
    },
    {
      "cell_type": "code",
      "metadata": {
        "id": "A5dw_snL7Nb9",
        "colab_type": "code",
        "colab": {}
      },
      "source": [
        "# path to spectrogram images\n",
        "cough_path = Path(\"/Drive/Drive 2/Colab Notebooks/Data/Cough\")\n",
        "non_cough_path = Path(\"/Drive/Drive 2/Colab Notebooks/Data/Non-Cough\")"
      ],
      "execution_count": 0,
      "outputs": []
    },
    {
      "cell_type": "code",
      "metadata": {
        "id": "0IETbxYBK5ij",
        "colab_type": "code",
        "colab": {}
      },
      "source": [
        ""
      ],
      "execution_count": 0,
      "outputs": []
    },
    {
      "cell_type": "code",
      "metadata": {
        "id": "mBt7RnZbLGR5",
        "colab_type": "code",
        "colab": {}
      },
      "source": [
        "# list to hold data\n",
        "Labels = []\n",
        "Images = []\n",
        "# for loading cough sound\n",
        "for img in cough_path.glob(\"*.png\"):\n",
        "  img = image.load_img(img)\n",
        "  image_array = image.img_to_array(img)\n",
        "  #img = img.resize((224, 224))\n",
        "  Images.append(image_array)\n",
        "  Labels.append(1)\n",
        "# for loading non cough sound\n",
        "for img in non_cough_path.glob(\"*.png\"):\n",
        "  img = image.load_img(img)\n",
        "  #img = img.resize((224, 224))\n",
        "  image_array = image.img_to_array(img)\n",
        "  Images.append(image_array)\n",
        "  Labels.append(0)\n",
        "\n"
      ],
      "execution_count": 0,
      "outputs": []
    },
    {
      "cell_type": "code",
      "metadata": {
        "id": "5-WaOFHxTXUF",
        "colab_type": "code",
        "colab": {}
      },
      "source": [
        "# converting images to numpy array\n",
        "x_train = np.array(Images)\n",
        "y_train = np.array(Labels)\n",
        "#x_train = x_train.reshape((-1, 224, 224, 3), order= \"C\")"
      ],
      "execution_count": 0,
      "outputs": []
    },
    {
      "cell_type": "code",
      "metadata": {
        "id": "pRv__2G6Gypp",
        "colab_type": "code",
        "colab": {
          "base_uri": "https://localhost:8080/",
          "height": 34
        },
        "outputId": "fb88b15b-7e1f-444c-af6f-9b712cd77992"
      },
      "source": [
        "x_train.shape\n",
        "#x_train = x_train.reshape((-1, 224, 224, 3))"
      ],
      "execution_count": 60,
      "outputs": [
        {
          "output_type": "execute_result",
          "data": {
            "text/plain": [
              "(2000, 302, 310, 3)"
            ]
          },
          "metadata": {
            "tags": []
          },
          "execution_count": 60
        }
      ]
    },
    {
      "cell_type": "code",
      "metadata": {
        "id": "iXiRtcvYT-C2",
        "colab_type": "code",
        "colab": {}
      },
      "source": [
        "# normalizing data to 0 to 1 range\n",
        "X_train = mobilenet_v2.preprocess_input(x_train)\n"
      ],
      "execution_count": 0,
      "outputs": []
    },
    {
      "cell_type": "code",
      "metadata": {
        "id": "kqcvcdjMApuq",
        "colab_type": "code",
        "colab": {
          "base_uri": "https://localhost:8080/",
          "height": 34
        },
        "outputId": "4d96ec4f-b65c-47c8-edcf-61830f92e1db"
      },
      "source": [
        "X_train.shape"
      ],
      "execution_count": 43,
      "outputs": [
        {
          "output_type": "execute_result",
          "data": {
            "text/plain": [
              "(2000, 302, 310, 3)"
            ]
          },
          "metadata": {
            "tags": []
          },
          "execution_count": 43
        }
      ]
    },
    {
      "cell_type": "markdown",
      "metadata": {
        "id": "qx_GiiVQPRe7",
        "colab_type": "text"
      },
      "source": [
        "## 3. Feature Extraction from Pre_Trained Model"
      ]
    },
    {
      "cell_type": "code",
      "metadata": {
        "id": "aMxn7dXzU-f_",
        "colab_type": "code",
        "colab": {}
      },
      "source": [
        "\n",
        "pretrained_model = mobilenet_v2.MobileNetV2(weights = \"imagenet\", include_top = False, input_shape =(302, 310, 3) )"
      ],
      "execution_count": 0,
      "outputs": []
    },
    {
      "cell_type": "code",
      "metadata": {
        "id": "jWH1UCNN_7NF",
        "colab_type": "code",
        "colab": {}
      },
      "source": [
        "features_M = pretrained_model.predict(X_train)"
      ],
      "execution_count": 0,
      "outputs": []
    },
    {
      "cell_type": "code",
      "metadata": {
        "id": "oYedDnrqPJ7l",
        "colab_type": "code",
        "colab": {
          "base_uri": "https://localhost:8080/",
          "height": 34
        },
        "outputId": "66aa74ad-6883-43a2-984c-6ec873bd1e4f"
      },
      "source": [
        "# Saving Features to file\n",
        "joblib.dump(features_M, \"/Drive/Drive 2/Colab Notebooks/Dump_Data/x_train.dat\")"
      ],
      "execution_count": 64,
      "outputs": [
        {
          "output_type": "execute_result",
          "data": {
            "text/plain": [
              "['/Drive/Drive 2/Colab Notebooks/Dump_Data/x_train.dat']"
            ]
          },
          "metadata": {
            "tags": []
          },
          "execution_count": 64
        }
      ]
    },
    {
      "cell_type": "code",
      "metadata": {
        "id": "yPmrQ1mwPKo7",
        "colab_type": "code",
        "colab": {
          "base_uri": "https://localhost:8080/",
          "height": 34
        },
        "outputId": "df882b27-68c2-4539-8df7-5024730d1c93"
      },
      "source": [
        "joblib.dump(y_train, \"/Drive/Drive 2/Colab Notebooks/Dump_Data/y_train.dat\")"
      ],
      "execution_count": 65,
      "outputs": [
        {
          "output_type": "execute_result",
          "data": {
            "text/plain": [
              "['/Drive/Drive 2/Colab Notebooks/Dump_Data/y_train.dat']"
            ]
          },
          "metadata": {
            "tags": []
          },
          "execution_count": 65
        }
      ]
    },
    {
      "cell_type": "code",
      "metadata": {
        "id": "dl6n-HGNPKxN",
        "colab_type": "code",
        "colab": {}
      },
      "source": [
        ""
      ],
      "execution_count": 0,
      "outputs": []
    },
    {
      "cell_type": "markdown",
      "metadata": {
        "id": "dngbssJKQXDn",
        "colab_type": "text"
      },
      "source": [
        "# New Section"
      ]
    }
  ]
}